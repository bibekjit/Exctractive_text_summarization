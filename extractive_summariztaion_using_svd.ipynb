{
 "cells": [
  {
   "cell_type": "code",
   "execution_count": 1,
   "id": "03056da0",
   "metadata": {},
   "outputs": [],
   "source": [
    "with open('Exctractive_text_summarization/sample.txt','r',encoding='utf-8') as file:\n",
    "    text = file.read().split('\\n')\n",
    "    text = ' '.join(text)"
   ]
  },
  {
   "cell_type": "code",
   "execution_count": 2,
   "id": "e6c822fa",
   "metadata": {},
   "outputs": [],
   "source": [
    "from extractive_summarizer import *\n",
    "\n",
    "#get word and sentence tokens from text\n",
    "tokens,docs,sentences = preprocessing(text)\n",
    "\n",
    "#initialise summarizer with summary_size = 1 (default value is 2)\n",
    "summarizer = SVDSummarizer(summary_size=1)\n",
    "\n",
    "#fit the word and sentence tokens\n",
    "summarizer.fit(tokens,sentences)\n",
    "\n",
    "#summarize the original document\n",
    "summarizer.summarize(docs)"
   ]
  },
  {
   "cell_type": "code",
   "execution_count": 3,
   "id": "4f994f69",
   "metadata": {},
   "outputs": [
    {
     "name": "stdout",
     "output_type": "stream",
     "text": [
      "Sholly hopes gateway communities and park staff can determine how to sustain local businesses without attracting more visitors than the park can host, the paper reported.\n",
      "\n",
      "In Montana's Park County, which includes Gardiner, water has been receding, and access to the communities that had been surrounded by floodwater has been restored for emergency vehicles at a minimum, Greg Coleman, the county's emergency services manager, said Wednesday morning.\n",
      "\n",
      "More snow could soon melt in the mountains of Wyoming and Montana, and that, coupled with more rain this weekend, could cause river levels to rise again, the National Weather Service's office in Billings said.\n",
      "\n",
      "Aerial video captured by CNN shows one Montana home hanging precariously over the edge of a severely eroded embankment.\n",
      "\n",
      "In Park County, at least two homes collapsed into the intruding Yellowstone River early this week, and numerous homes and businesses were flooded, said Coleman, the county emergency official.\n",
      "\n",
      "Communities surrounding Yellowstone are also reeling from the catastrophic damage.\n",
      "\n",
      "Yellowstone National Park could partially reopen as early as Monday as officials continue to assess the damage caused by historic flooding, which now threatens to hamper the peak of the summer tourist season.\n",
      "\n",
      "The Montana National Guard this week carried out 87 rescues by helicopter, it said Wednesday on Facebook.\n",
      "\n",
      "Still, the levels are predicted to be well under flood stage, because the rainfall amounts look very light.\n",
      "\n",
      "Quickly moving waters compromised several roads and bridges, submerged cars, and even swept away homes as the underlying foundations became completely worn away.\n",
      "\n",
      "\"Temperatures will be in the 50s and 60s in the high country both Friday and Saturday afternoon,\" the weather service said.\n",
      "\n",
      "\"There's nobody here,\" Keri Huesing, owner of Yellowstone Gateway Inn, told CNN.\n",
      "\n",
      "The level of runoff is comparable to the region receiving two to three times a normal June's precipitation in only three days, according to CNN meteorologists.\n",
      "\n",
      "\"That said, those with interests near waterways in the western foothills should pay attention to the forecasts through the weekend in case the forecast changes significantly,\" the service added.\n",
      "\n",
      "The record flooding was caused by a combination of heavy rainfall and snowmelt from high elevations over the weekend in the Beartooth and Absaroka mountain ranges, which stretch across the Montana-Wyoming state line.\n",
      "\n",
      "A flood wave moved east Tuesday and Wednesday along the Yellowstone River, the National Weather Service said, leading to reports of major flooding in Billings, which is about a 175-mile drive east of Gardiner.\n",
      "\n",
      "Now, she says, all but one of her visitors are gone, following the flooding, and one neighboring hotel has shut down completely and sent its employees home.\n",
      "\n",
      "President Joe Biden on Thursday approved a disaster declaration for Montana in areas affected by flooding.\n",
      "\n",
      "The climate crisis is already driving more annual precipitation and runoff from melting snowpack in the Greater Yellowstone Area, and the trend will continue in the coming years, the report said.\n",
      "\n",
      "\"It's a Yellowstone town, and it lives and dies by tourism,\" Park County Commissioner Bill Berg said of Gardiner.\n",
      "\n",
      "Warm air is expected to move over the mountains Thursday night, keeping the low temperatures above freezing.\n",
      "\n",
      "Photos of the aftermath in the city of Red Lodge, Montana, on Tuesday, show several streets piled with rocks and debris as water still runs over the sidewalks.\n",
      "\n",
      "This, along with plenty of sunshine during the day, should get snow melting.\n",
      "\n",
      "The less-impacted southern loop could reopen as early as Monday, Park Superintendent Cam Sholly told residents and tourists in Cody, Wyoming, on Wednesday, according to the Casper Star-Tribune.\n",
      "\n",
      "River projections show this new rise in water peaking over the weekend around Yellowstone and in Billings on Monday.\n",
      "\n",
      "The sudden closure has fueled concerns from business owners and employees in surrounding communities who rely on Yellowstone visitors as a key source of revenue.\n",
      "\n"
     ]
    }
   ],
   "source": [
    "# print the summary\n",
    "for sent in summarizer.summary:\n",
    "    print(sent.strip()+'\\n')"
   ]
  },
  {
   "cell_type": "code",
   "execution_count": 4,
   "id": "c57c9bdf",
   "metadata": {},
   "outputs": [
    {
     "name": "stdout",
     "output_type": "stream",
     "text": [
      "The summary is 53% of the original text\n"
     ]
    }
   ],
   "source": [
    "print(f'The summary is {int(len(summarizer.summary)/len(docs)*100)}% of the original text')"
   ]
  }
 ],
 "metadata": {
  "kernelspec": {
   "display_name": "Python 3 (ipykernel)",
   "language": "python",
   "name": "python3"
  },
  "language_info": {
   "codemirror_mode": {
    "name": "ipython",
    "version": 3
   },
   "file_extension": ".py",
   "mimetype": "text/x-python",
   "name": "python",
   "nbconvert_exporter": "python",
   "pygments_lexer": "ipython3",
   "version": "3.8.6"
  }
 },
 "nbformat": 4,
 "nbformat_minor": 5
}
