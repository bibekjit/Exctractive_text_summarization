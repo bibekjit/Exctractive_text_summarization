{
 "cells": [
  {
   "cell_type": "code",
   "execution_count": 1,
   "id": "03056da0",
   "metadata": {},
   "outputs": [],
   "source": [
    "with open('Exctractive_text_summarization/sample.txt','r',encoding='utf-8') as file:\n",
    "    text = file.read().split('\\n')\n",
    "    text = ' '.join(text)"
   ]
  },
  {
   "cell_type": "code",
   "execution_count": 2,
   "id": "e6c822fa",
   "metadata": {},
   "outputs": [],
   "source": [
    "from extractive_summarizer import *\n",
    "\n",
    "#get word and sentence tokens from text\n",
    "tokens,docs,sentences = preprocessing(text)\n",
    "\n",
    "#initialise summarizer with summary_size = 1 (default value is 2)\n",
    "summarizer = SVDSummarizer(summary_size=1)\n",
    "\n",
    "#fit the word and sentence tokens\n",
    "summarizer.fit(tokens,sentences)\n",
    "\n",
    "#summarize the original document\n",
    "summarizer.summarize(docs)"
   ]
  },
  {
   "cell_type": "code",
   "execution_count": 3,
   "id": "4f994f69",
   "metadata": {},
   "outputs": [
    {
     "name": "stdout",
     "output_type": "stream",
     "text": [
      "The battering floodwaters wiped away entire segments of paved road near the northern entrance, downed trees and triggered multiple mudslides.\n",
      "\n",
      "The dangerous flooding fueled by heavy rainfall and snowmelt began to inundate the park and several surrounding communities Monday, overtaking essential roadways and bridges, and making it dangerous or impossible for some people to evacuate.\n",
      "\n",
      "Gardiner was isolated by water Monday and into Tuesday as flooding rendered roads and bridges impassable.\n",
      "\n",
      "\"Federal funding is available to State, tribal, eligible local governments and certain private nonprofit organizations on a cost-sharing basis for emergency work and the repair or replacement of facilities damaged by the severe storm and flooding in the counties of Carbon, Park, and Stillwater,\" the declaration states.\n",
      "\n",
      "Video from witnesses showed one building in Gardiner collapsing into the river on Monday.\n",
      "\n",
      "As some communities became completely surrounded by water, at times without power or drinking water, search and rescue teams worked to evacuate residents.\n",
      "\n",
      "\"Expect a few days of melting of what is still a substantial snowpack in the mountains.\"\n",
      "\n",
      "\"By the time slightly more substantial precipitation arrives Sunday night into Monday, temperatures drop into the 30s, and snow is probable above 8,500 feet Sunday night,\" the weather service said.\n",
      "\n",
      "Even as water levels began to recede in areas on Tuesday and Wednesday, park officials and residents in the region are bracing for the possibility of more flooding in the coming days.\n",
      "\n",
      "In Cody, which lies east of the park, tourism industry workers were eager for answers from Sholly on the southern loop reopening, the Casper Star-Tribune reported.\n",
      "\n",
      "By Tuesday afternoon, the river at Billings had surged well above its previous record of 15 feet, according to the weather service.\n",
      "\n",
      "The plant resumed operations at a low level Wednesday afternoon, and by Thursday morning it was working at full capacity, city officials said.\n",
      "\n",
      "Heavy rains and rapid snowmelt caused rivers to swallow bridges, sweep away entire sections of roadway and forced the evacuation of more than 10,000 visitors.\n",
      "\n",
      "The intense rainfall and rapid snow melt already experienced by the park and nearby communities are consistent with projections laid out in a climate assessment report released last year from scientists with the US Geological Survey, Montana State University and the University of Wyoming.\n",
      "\n",
      "All five entrances to Yellowstone will remain closed through at least the weekend, the park said in a release Tuesday, and the northern roads of the park will likely be closed for an extended period due to \"severely damaged, impacted infrastructure.\"\n",
      "\n",
      "The flooding prompted city officials to shut down the city water plant late Tuesday night, the city's public works department said.\n",
      "\n",
      "\"We were booked solid for a year.\"\n",
      "\n",
      "The weather service's latest river forecasts predict substantial rises due to the melt.\n",
      "\n",
      "In the south Montana city of Gardiner, which acts as a gateway into Yellowstone's northern entrance, hotel owners are already feeling the impact.\n",
      "\n",
      "The park's northern region, which bore the brunt of the flood damage, is expected to be closed for a \"substantial length of time,\" which will likely go through the end of the season, the park said in a release Tuesday.\n",
      "\n",
      "Showers and thunderstorms are expected to hit the area Saturday night and Sunday.\n",
      "\n",
      "A North Entrance road in Yellowstone National Park was inundated with water.\n",
      "\n",
      "But while the southern loop reopening may provide relief to some tourism industry workers, those bordering the northern entrance are still left to wait.\n",
      "\n"
     ]
    }
   ],
   "source": [
    "# print the summary\n",
    "for sent in summarizer.summary:\n",
    "    print(sent.strip()+'\\n')"
   ]
  },
  {
   "cell_type": "code",
   "execution_count": 4,
   "id": "8869425d",
   "metadata": {},
   "outputs": [
    {
     "name": "stdout",
     "output_type": "stream",
     "text": [
      "The summary is 53% of the original text\n"
     ]
    }
   ],
   "source": [
    "print(f'The summary is {int(len(summarizer.summary)/len(docs)*100)}% of the original text')"
   ]
  }
 ],
 "metadata": {
  "kernelspec": {
   "display_name": "Python 3 (ipykernel)",
   "language": "python",
   "name": "python3"
  },
  "language_info": {
   "codemirror_mode": {
    "name": "ipython",
    "version": 3
   },
   "file_extension": ".py",
   "mimetype": "text/x-python",
   "name": "python",
   "nbconvert_exporter": "python",
   "pygments_lexer": "ipython3",
   "version": "3.8.6"
  }
 },
 "nbformat": 4,
 "nbformat_minor": 5
}
